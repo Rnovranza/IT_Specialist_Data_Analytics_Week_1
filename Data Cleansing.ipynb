{
 "cells": [
  {
   "cell_type": "code",
   "execution_count": 24,
   "id": "6c15d1a8",
   "metadata": {},
   "outputs": [],
   "source": [
    "import pandas as pd\n",
    "import numpy as py\n",
    "import matplotlib.pyplot as plt \n",
    "import seaborn as sns "
   ]
  },
  {
   "cell_type": "code",
   "execution_count": 56,
   "id": "f55c8a64",
   "metadata": {},
   "outputs": [],
   "source": [
    "df = pd.read_csv('Latest Covid-19 Data in Asia.csv')"
   ]
  },
  {
   "cell_type": "code",
   "execution_count": 57,
   "id": "e567b92a",
   "metadata": {},
   "outputs": [
    {
     "data": {
      "text/html": [
       "<div>\n",
       "<style scoped>\n",
       "    .dataframe tbody tr th:only-of-type {\n",
       "        vertical-align: middle;\n",
       "    }\n",
       "\n",
       "    .dataframe tbody tr th {\n",
       "        vertical-align: top;\n",
       "    }\n",
       "\n",
       "    .dataframe thead th {\n",
       "        text-align: right;\n",
       "    }\n",
       "</style>\n",
       "<table border=\"1\" class=\"dataframe\">\n",
       "  <thead>\n",
       "    <tr style=\"text-align: right;\">\n",
       "      <th></th>\n",
       "      <th>Country/Other</th>\n",
       "      <th>Total Cases</th>\n",
       "      <th>Total Deaths</th>\n",
       "      <th>Total Recovered</th>\n",
       "      <th>Active Cases</th>\n",
       "      <th>Tot Cases/ 1M pop</th>\n",
       "      <th>Deaths/ 1M pop</th>\n",
       "      <th>Total Tests</th>\n",
       "      <th>Tests/ 1M pop</th>\n",
       "      <th>Population</th>\n",
       "    </tr>\n",
       "  </thead>\n",
       "  <tbody>\n",
       "    <tr>\n",
       "      <th>0</th>\n",
       "      <td>Afghanistan</td>\n",
       "      <td>225850</td>\n",
       "      <td>7946</td>\n",
       "      <td>206436.0</td>\n",
       "      <td>11468.0</td>\n",
       "      <td>5542</td>\n",
       "      <td>195</td>\n",
       "      <td>1305526.0</td>\n",
       "      <td>32034.0</td>\n",
       "      <td>40754388</td>\n",
       "    </tr>\n",
       "    <tr>\n",
       "      <th>1</th>\n",
       "      <td>Armenia</td>\n",
       "      <td>449357</td>\n",
       "      <td>8751</td>\n",
       "      <td>435162.0</td>\n",
       "      <td>5444.0</td>\n",
       "      <td>151199</td>\n",
       "      <td>2945</td>\n",
       "      <td>3242901.0</td>\n",
       "      <td>1091164.0</td>\n",
       "      <td>2971966</td>\n",
       "    </tr>\n",
       "    <tr>\n",
       "      <th>2</th>\n",
       "      <td>Azerbaijan</td>\n",
       "      <td>832580</td>\n",
       "      <td>10302</td>\n",
       "      <td>822131.0</td>\n",
       "      <td>147.0</td>\n",
       "      <td>80831</td>\n",
       "      <td>1000</td>\n",
       "      <td>7680488.0</td>\n",
       "      <td>745664.0</td>\n",
       "      <td>10300205</td>\n",
       "    </tr>\n",
       "    <tr>\n",
       "      <th>3</th>\n",
       "      <td>Bahrain</td>\n",
       "      <td>728053</td>\n",
       "      <td>1573</td>\n",
       "      <td>726036.0</td>\n",
       "      <td>444.0</td>\n",
       "      <td>408105</td>\n",
       "      <td>882</td>\n",
       "      <td>10919039.0</td>\n",
       "      <td>6120596.0</td>\n",
       "      <td>1783983</td>\n",
       "    </tr>\n",
       "    <tr>\n",
       "      <th>4</th>\n",
       "      <td>Bangladesh</td>\n",
       "      <td>2045517</td>\n",
       "      <td>29477</td>\n",
       "      <td>1998448.0</td>\n",
       "      <td>17592.0</td>\n",
       "      <td>12184</td>\n",
       "      <td>176</td>\n",
       "      <td>15254399.0</td>\n",
       "      <td>90862.0</td>\n",
       "      <td>167885689</td>\n",
       "    </tr>\n",
       "    <tr>\n",
       "      <th>5</th>\n",
       "      <td>Bhutan</td>\n",
       "      <td>62697</td>\n",
       "      <td>21</td>\n",
       "      <td>61564.0</td>\n",
       "      <td>1112.0</td>\n",
       "      <td>79571</td>\n",
       "      <td>27</td>\n",
       "      <td>2303734.0</td>\n",
       "      <td>2923739.0</td>\n",
       "      <td>787941</td>\n",
       "    </tr>\n",
       "    <tr>\n",
       "      <th>6</th>\n",
       "      <td>Brunei</td>\n",
       "      <td>310522</td>\n",
       "      <td>225</td>\n",
       "      <td>243601.0</td>\n",
       "      <td>66696.0</td>\n",
       "      <td>697127</td>\n",
       "      <td>505</td>\n",
       "      <td>717784.0</td>\n",
       "      <td>1611437.0</td>\n",
       "      <td>445431</td>\n",
       "    </tr>\n",
       "    <tr>\n",
       "      <th>7</th>\n",
       "      <td>Cambodia</td>\n",
       "      <td>138940</td>\n",
       "      <td>3056</td>\n",
       "      <td>135884.0</td>\n",
       "      <td>0.0</td>\n",
       "      <td>8093</td>\n",
       "      <td>178</td>\n",
       "      <td>3091420.0</td>\n",
       "      <td>180062.0</td>\n",
       "      <td>17168639</td>\n",
       "    </tr>\n",
       "    <tr>\n",
       "      <th>8</th>\n",
       "      <td>China</td>\n",
       "      <td>503302</td>\n",
       "      <td>5272</td>\n",
       "      <td>379053.0</td>\n",
       "      <td>118977.0</td>\n",
       "      <td>347</td>\n",
       "      <td>4</td>\n",
       "      <td>160000000.0</td>\n",
       "      <td>110461.0</td>\n",
       "      <td>1448471400</td>\n",
       "    </tr>\n",
       "    <tr>\n",
       "      <th>9</th>\n",
       "      <td>Cyprus</td>\n",
       "      <td>660854</td>\n",
       "      <td>1364</td>\n",
       "      <td>659490.0</td>\n",
       "      <td>0.0</td>\n",
       "      <td>540184</td>\n",
       "      <td>1115</td>\n",
       "      <td>9640118.0</td>\n",
       "      <td>7879860.0</td>\n",
       "      <td>1223387</td>\n",
       "    </tr>\n",
       "  </tbody>\n",
       "</table>\n",
       "</div>"
      ],
      "text/plain": [
       "  Country/Other  Total Cases  Total Deaths  Total Recovered  Active Cases  \\\n",
       "0   Afghanistan       225850          7946         206436.0       11468.0   \n",
       "1       Armenia       449357          8751         435162.0        5444.0   \n",
       "2    Azerbaijan       832580         10302         822131.0         147.0   \n",
       "3       Bahrain       728053          1573         726036.0         444.0   \n",
       "4    Bangladesh      2045517         29477        1998448.0       17592.0   \n",
       "5        Bhutan        62697            21          61564.0        1112.0   \n",
       "6        Brunei       310522           225         243601.0       66696.0   \n",
       "7      Cambodia       138940          3056         135884.0           0.0   \n",
       "8         China       503302          5272         379053.0      118977.0   \n",
       "9        Cyprus       660854          1364         659490.0           0.0   \n",
       "\n",
       "   Tot Cases/ 1M pop  Deaths/ 1M pop  Total Tests  Tests/ 1M pop  Population  \n",
       "0               5542             195    1305526.0        32034.0    40754388  \n",
       "1             151199            2945    3242901.0      1091164.0     2971966  \n",
       "2              80831            1000    7680488.0       745664.0    10300205  \n",
       "3             408105             882   10919039.0      6120596.0     1783983  \n",
       "4              12184             176   15254399.0        90862.0   167885689  \n",
       "5              79571              27    2303734.0      2923739.0      787941  \n",
       "6             697127             505     717784.0      1611437.0      445431  \n",
       "7               8093             178    3091420.0       180062.0    17168639  \n",
       "8                347               4  160000000.0       110461.0  1448471400  \n",
       "9             540184            1115    9640118.0      7879860.0     1223387  "
      ]
     },
     "execution_count": 57,
     "metadata": {},
     "output_type": "execute_result"
    }
   ],
   "source": [
    "df.head(10)"
   ]
  },
  {
   "cell_type": "markdown",
   "id": "b3580d8f",
   "metadata": {},
   "source": [
    "Data Cleansing"
   ]
  },
  {
   "cell_type": "code",
   "execution_count": 71,
   "id": "cd620491",
   "metadata": {},
   "outputs": [
    {
     "name": "stdout",
     "output_type": "stream",
     "text": [
      "<class 'pandas.core.frame.DataFrame'>\n",
      "RangeIndex: 50 entries, 0 to 49\n",
      "Data columns (total 10 columns):\n",
      " #   Column             Non-Null Count  Dtype  \n",
      "---  ------             --------------  -----  \n",
      " 0   Country/Other      50 non-null     object \n",
      " 1   Total Cases        50 non-null     int64  \n",
      " 2   Total Deaths       50 non-null     int64  \n",
      " 3   Total Recovered    50 non-null     float64\n",
      " 4   Active Cases       47 non-null     float64\n",
      " 5   Tot Cases/ 1M pop  50 non-null     int64  \n",
      " 6   Deaths/ 1M pop     50 non-null     int64  \n",
      " 7   Total Tests        48 non-null     float64\n",
      " 8   Tests/ 1M pop      48 non-null     float64\n",
      " 9   Population         50 non-null     int64  \n",
      "dtypes: float64(4), int64(5), object(1)\n",
      "memory usage: 4.0+ KB\n"
     ]
    }
   ],
   "source": [
    "df.info()"
   ]
  },
  {
   "cell_type": "code",
   "execution_count": 72,
   "id": "86701b56",
   "metadata": {},
   "outputs": [
    {
     "data": {
      "image/png": "[encoded data removed]",
      "text/plain": [
       "<Figure size 432x288 with 1 Axes>"
      ]
     },
     "metadata": {
      "needs_background": "light"
     },
     "output_type": "display_data"
    }
   ],
   "source": [
    "df['Active Cases'].plot(kind='hist');"
   ]
  },
  {
   "cell_type": "markdown",
   "id": "92f5f7b7",
   "metadata": {},
   "source": [
    "Because column Active Cases is a skewness distributed\n",
    "\n",
    "Doing Imputation for column Active Cases with median"
   ]
  },
  {
   "cell_type": "code",
   "execution_count": 73,
   "id": "76a49e0b",
   "metadata": {},
   "outputs": [],
   "source": [
    "val = df['Active Cases'].median()\n",
    "df['Active Cases'] = df['Active Cases'].fillna(val)"
   ]
  },
  {
   "cell_type": "code",
   "execution_count": 74,
   "id": "b763aef6",
   "metadata": {},
   "outputs": [
    {
     "name": "stdout",
     "output_type": "stream",
     "text": [
      "<class 'pandas.core.frame.DataFrame'>\n",
      "RangeIndex: 50 entries, 0 to 49\n",
      "Data columns (total 10 columns):\n",
      " #   Column             Non-Null Count  Dtype  \n",
      "---  ------             --------------  -----  \n",
      " 0   Country/Other      50 non-null     object \n",
      " 1   Total Cases        50 non-null     int64  \n",
      " 2   Total Deaths       50 non-null     int64  \n",
      " 3   Total Recovered    50 non-null     float64\n",
      " 4   Active Cases       50 non-null     float64\n",
      " 5   Tot Cases/ 1M pop  50 non-null     int64  \n",
      " 6   Deaths/ 1M pop     50 non-null     int64  \n",
      " 7   Total Tests        48 non-null     float64\n",
      " 8   Tests/ 1M pop      48 non-null     float64\n",
      " 9   Population         50 non-null     int64  \n",
      "dtypes: float64(4), int64(5), object(1)\n",
      "memory usage: 4.0+ KB\n"
     ]
    }
   ],
   "source": [
    "df.info()"
   ]
  },
  {
   "cell_type": "code",
   "execution_count": 75,
   "id": "24ea50ac",
   "metadata": {},
   "outputs": [],
   "source": [
    "df = pd.read_csv('netflix.csv')"
   ]
  },
  {
   "cell_type": "code",
   "execution_count": 76,
   "id": "d63d4217",
   "metadata": {},
   "outputs": [
    {
     "data": {
      "text/html": [
       "<div>\n",
       "<style scoped>\n",
       "    .dataframe tbody tr th:only-of-type {\n",
       "        vertical-align: middle;\n",
       "    }\n",
       "\n",
       "    .dataframe tbody tr th {\n",
       "        vertical-align: top;\n",
       "    }\n",
       "\n",
       "    .dataframe thead th {\n",
       "        text-align: right;\n",
       "    }\n",
       "</style>\n",
       "<table border=\"1\" class=\"dataframe\">\n",
       "  <thead>\n",
       "    <tr style=\"text-align: right;\">\n",
       "      <th></th>\n",
       "      <th>show_id</th>\n",
       "      <th>type</th>\n",
       "      <th>title</th>\n",
       "      <th>director</th>\n",
       "      <th>cast</th>\n",
       "      <th>country</th>\n",
       "      <th>date_added</th>\n",
       "      <th>release_year</th>\n",
       "      <th>rating</th>\n",
       "      <th>duration</th>\n",
       "      <th>listed_in</th>\n",
       "      <th>description</th>\n",
       "    </tr>\n",
       "  </thead>\n",
       "  <tbody>\n",
       "    <tr>\n",
       "      <th>0</th>\n",
       "      <td>s1</td>\n",
       "      <td>Movie</td>\n",
       "      <td>Dick Johnson Is Dead</td>\n",
       "      <td>Kirsten Johnson</td>\n",
       "      <td>NaN</td>\n",
       "      <td>United States</td>\n",
       "      <td>September 25, 2021</td>\n",
       "      <td>2020</td>\n",
       "      <td>PG-13</td>\n",
       "      <td>90 min</td>\n",
       "      <td>Documentaries</td>\n",
       "      <td>As her father nears the end of his life, filmm...</td>\n",
       "    </tr>\n",
       "    <tr>\n",
       "      <th>1</th>\n",
       "      <td>s2</td>\n",
       "      <td>TV Show</td>\n",
       "      <td>Blood &amp; Water</td>\n",
       "      <td>NaN</td>\n",
       "      <td>Ama Qamata, Khosi Ngema, Gail Mabalane, Thaban...</td>\n",
       "      <td>South Africa</td>\n",
       "      <td>September 24, 2021</td>\n",
       "      <td>2021</td>\n",
       "      <td>TV-MA</td>\n",
       "      <td>2 Seasons</td>\n",
       "      <td>International TV Shows, TV Dramas, TV Mysteries</td>\n",
       "      <td>After crossing paths at a party, a Cape Town t...</td>\n",
       "    </tr>\n",
       "    <tr>\n",
       "      <th>2</th>\n",
       "      <td>s3</td>\n",
       "      <td>TV Show</td>\n",
       "      <td>Ganglands</td>\n",
       "      <td>Julien Leclercq</td>\n",
       "      <td>Sami Bouajila, Tracy Gotoas, Samuel Jouy, Nabi...</td>\n",
       "      <td>NaN</td>\n",
       "      <td>September 24, 2021</td>\n",
       "      <td>2021</td>\n",
       "      <td>TV-MA</td>\n",
       "      <td>1 Season</td>\n",
       "      <td>Crime TV Shows, International TV Shows, TV Act...</td>\n",
       "      <td>To protect his family from a powerful drug lor...</td>\n",
       "    </tr>\n",
       "    <tr>\n",
       "      <th>3</th>\n",
       "      <td>s4</td>\n",
       "      <td>TV Show</td>\n",
       "      <td>Jailbirds New Orleans</td>\n",
       "      <td>NaN</td>\n",
       "      <td>NaN</td>\n",
       "      <td>NaN</td>\n",
       "      <td>September 24, 2021</td>\n",
       "      <td>2021</td>\n",
       "      <td>TV-MA</td>\n",
       "      <td>1 Season</td>\n",
       "      <td>Docuseries, Reality TV</td>\n",
       "      <td>Feuds, flirtations and toilet talk go down amo...</td>\n",
       "    </tr>\n",
       "    <tr>\n",
       "      <th>4</th>\n",
       "      <td>s5</td>\n",
       "      <td>TV Show</td>\n",
       "      <td>Kota Factory</td>\n",
       "      <td>NaN</td>\n",
       "      <td>Mayur More, Jitendra Kumar, Ranjan Raj, Alam K...</td>\n",
       "      <td>India</td>\n",
       "      <td>September 24, 2021</td>\n",
       "      <td>2021</td>\n",
       "      <td>TV-MA</td>\n",
       "      <td>2 Seasons</td>\n",
       "      <td>International TV Shows, Romantic TV Shows, TV ...</td>\n",
       "      <td>In a city of coaching centers known to train I...</td>\n",
       "    </tr>\n",
       "  </tbody>\n",
       "</table>\n",
       "</div>"
      ],
      "text/plain": [
       "  show_id     type                  title         director  \\\n",
       "0      s1    Movie   Dick Johnson Is Dead  Kirsten Johnson   \n",
       "1      s2  TV Show          Blood & Water              NaN   \n",
       "2      s3  TV Show              Ganglands  Julien Leclercq   \n",
       "3      s4  TV Show  Jailbirds New Orleans              NaN   \n",
       "4      s5  TV Show           Kota Factory              NaN   \n",
       "\n",
       "                                                cast        country  \\\n",
       "0                                                NaN  United States   \n",
       "1  Ama Qamata, Khosi Ngema, Gail Mabalane, Thaban...   South Africa   \n",
       "2  Sami Bouajila, Tracy Gotoas, Samuel Jouy, Nabi...            NaN   \n",
       "3                                                NaN            NaN   \n",
       "4  Mayur More, Jitendra Kumar, Ranjan Raj, Alam K...          India   \n",
       "\n",
       "           date_added  release_year rating   duration  \\\n",
       "0  September 25, 2021          2020  PG-13     90 min   \n",
       "1  September 24, 2021          2021  TV-MA  2 Seasons   \n",
       "2  September 24, 2021          2021  TV-MA   1 Season   \n",
       "3  September 24, 2021          2021  TV-MA   1 Season   \n",
       "4  September 24, 2021          2021  TV-MA  2 Seasons   \n",
       "\n",
       "                                           listed_in  \\\n",
       "0                                      Documentaries   \n",
       "1    International TV Shows, TV Dramas, TV Mysteries   \n",
       "2  Crime TV Shows, International TV Shows, TV Act...   \n",
       "3                             Docuseries, Reality TV   \n",
       "4  International TV Shows, Romantic TV Shows, TV ...   \n",
       "\n",
       "                                         description  \n",
       "0  As her father nears the end of his life, filmm...  \n",
       "1  After crossing paths at a party, a Cape Town t...  \n",
       "2  To protect his family from a powerful drug lor...  \n",
       "3  Feuds, flirtations and toilet talk go down amo...  \n",
       "4  In a city of coaching centers known to train I...  "
      ]
     },
     "execution_count": 76,
     "metadata": {},
     "output_type": "execute_result"
    }
   ],
   "source": [
    "df.head()"
   ]
  },
  {
   "cell_type": "code",
   "execution_count": 84,
   "id": "d34743fc",
   "metadata": {},
   "outputs": [
    {
     "data": {
      "text/plain": [
       "4528"
      ]
     },
     "execution_count": 84,
     "metadata": {},
     "output_type": "execute_result"
    }
   ],
   "source": [
    "df.director.nunique()"
   ]
  },
  {
   "cell_type": "code",
   "execution_count": 78,
   "id": "38a26876",
   "metadata": {},
   "outputs": [
    {
     "name": "stdout",
     "output_type": "stream",
     "text": [
      "<class 'pandas.core.frame.DataFrame'>\n",
      "RangeIndex: 8807 entries, 0 to 8806\n",
      "Data columns (total 12 columns):\n",
      " #   Column        Non-Null Count  Dtype \n",
      "---  ------        --------------  ----- \n",
      " 0   show_id       8807 non-null   object\n",
      " 1   type          8807 non-null   object\n",
      " 2   title         8807 non-null   object\n",
      " 3   director      6173 non-null   object\n",
      " 4   cast          7982 non-null   object\n",
      " 5   country       7976 non-null   object\n",
      " 6   date_added    8797 non-null   object\n",
      " 7   release_year  8807 non-null   int64 \n",
      " 8   rating        8803 non-null   object\n",
      " 9   duration      8804 non-null   object\n",
      " 10  listed_in     8807 non-null   object\n",
      " 11  description   8807 non-null   object\n",
      "dtypes: int64(1), object(11)\n",
      "memory usage: 825.8+ KB\n"
     ]
    }
   ],
   "source": [
    "df.info()"
   ]
  },
  {
   "cell_type": "markdown",
   "id": "6a73beb2",
   "metadata": {},
   "source": [
    "Total Column"
   ]
  },
  {
   "cell_type": "code",
   "execution_count": 77,
   "id": "8dec6047",
   "metadata": {},
   "outputs": [
    {
     "data": {
      "text/plain": [
       "8807"
      ]
     },
     "execution_count": 77,
     "metadata": {},
     "output_type": "execute_result"
    }
   ],
   "source": [
    "df.shape[0]"
   ]
  },
  {
   "cell_type": "markdown",
   "id": "2ba3a3c4",
   "metadata": {},
   "source": [
    "Total Missing Value in column director"
   ]
  },
  {
   "cell_type": "code",
   "execution_count": 81,
   "id": "144bcc72",
   "metadata": {},
   "outputs": [
    {
     "data": {
      "text/plain": [
       "2634"
      ]
     },
     "execution_count": 81,
     "metadata": {},
     "output_type": "execute_result"
    }
   ],
   "source": [
    "df['director'].isna().sum()"
   ]
  },
  {
   "cell_type": "markdown",
   "id": "494df073",
   "metadata": {},
   "source": [
    "Percentage of Missing Value in column director"
   ]
  },
  {
   "cell_type": "code",
   "execution_count": 79,
   "id": "7463ed77",
   "metadata": {},
   "outputs": [
    {
     "data": {
      "text/plain": [
       "0.29908027705234475"
      ]
     },
     "execution_count": 79,
     "metadata": {},
     "output_type": "execute_result"
    }
   ],
   "source": [
    "df['director'].isna().sum()/df.shape[0]"
   ]
  },
  {
   "cell_type": "code",
   "execution_count": 82,
   "id": "88546bb6",
   "metadata": {},
   "outputs": [
    {
     "data": {
      "text/plain": [
       "Rajiv Chilaka                19\n",
       "Raúl Campos, Jan Suter       18\n",
       "Suhas Kadav                  16\n",
       "Marcus Raboy                 16\n",
       "Jay Karas                    14\n",
       "                             ..\n",
       "Alfonso Cortés-Cavanillas     1\n",
       "Glen Winter                   1\n",
       "Jason Moore                   1\n",
       "K. Ramanlal                   1\n",
       "Afia Nathaniel                1\n",
       "Name: director, Length: 4528, dtype: int64"
      ]
     },
     "execution_count": 82,
     "metadata": {},
     "output_type": "execute_result"
    }
   ],
   "source": [
    "df.director.value_counts()"
   ]
  },
  {
   "cell_type": "code",
   "execution_count": null,
   "id": "7f803cf4",
   "metadata": {},
   "outputs": [],
   "source": []
  }
 ],
 "metadata": {
  "kernelspec": {
   "display_name": "Python 3",
   "language": "python",
   "name": "python3"
  },
  "language_info": {
   "codemirror_mode": {
    "name": "ipython",
    "version": 3
   },
   "file_extension": ".py",
   "mimetype": "text/x-python",
   "name": "python",
   "nbconvert_exporter": "python",
   "pygments_lexer": "ipython3",
   "version": "3.8.8"
  }
 },
 "nbformat": 4,
 "nbformat_minor": 5
}
